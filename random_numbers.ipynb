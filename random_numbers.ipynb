{
  "nbformat": 4,
  "nbformat_minor": 0,
  "metadata": {
    "colab": {
      "provenance": [],
      "authorship_tag": "ABX9TyMEEDXfldVPIi9meS0cRxi+",
      "include_colab_link": true
    },
    "kernelspec": {
      "name": "python3",
      "display_name": "Python 3"
    },
    "language_info": {
      "name": "python"
    }
  },
  "cells": [
    {
      "cell_type": "markdown",
      "metadata": {
        "id": "view-in-github",
        "colab_type": "text"
      },
      "source": [
        "<a href=\"https://colab.research.google.com/github/jrh32014/Droid_bitbucket/blob/main/random_numbers.ipynb\" target=\"_parent\"><img src=\"https://colab.research.google.com/assets/colab-badge.svg\" alt=\"Open In Colab\"/></a>"
      ]
    },
    {
      "cell_type": "code",
      "execution_count": 1,
      "metadata": {
        "id": "ODZGRId8hB-P"
      },
      "outputs": [],
      "source": [
        "import math\n",
        "import numpy as np\n",
        "import numpy.random as npr\n",
        "from pylab import plt, mpl"
      ]
    },
    {
      "cell_type": "code",
      "source": [
        "plt.style.use('seaborn')\n",
        "mpl.reParams['font.family'] = 'serif'\n",
        "%matplotlib inline"
      ],
      "metadata": {
        "colab": {
          "base_uri": "https://localhost:8080/",
          "height": 376
        },
        "id": "0DyG9jc7jMg_",
        "outputId": "1db908e6-ea2f-4c0c-a661-912413a4b6d1"
      },
      "execution_count": 2,
      "outputs": [
        {
          "output_type": "stream",
          "name": "stderr",
          "text": [
            "<ipython-input-2-8724cd84727b>:1: MatplotlibDeprecationWarning: The seaborn styles shipped by Matplotlib are deprecated since 3.6, as they no longer correspond to the styles shipped by seaborn. However, they will remain available as 'seaborn-v0_8-<style>'. Alternatively, directly use the seaborn API instead.\n",
            "  plt.style.use('seaborn')\n"
          ]
        },
        {
          "output_type": "error",
          "ename": "AttributeError",
          "evalue": "ignored",
          "traceback": [
            "\u001b[0;31m---------------------------------------------------------------------------\u001b[0m",
            "\u001b[0;31mAttributeError\u001b[0m                            Traceback (most recent call last)",
            "\u001b[0;32m<ipython-input-2-8724cd84727b>\u001b[0m in \u001b[0;36m<cell line: 2>\u001b[0;34m()\u001b[0m\n\u001b[1;32m      1\u001b[0m \u001b[0mplt\u001b[0m\u001b[0;34m.\u001b[0m\u001b[0mstyle\u001b[0m\u001b[0;34m.\u001b[0m\u001b[0muse\u001b[0m\u001b[0;34m(\u001b[0m\u001b[0;34m'seaborn'\u001b[0m\u001b[0;34m)\u001b[0m\u001b[0;34m\u001b[0m\u001b[0;34m\u001b[0m\u001b[0m\n\u001b[0;32m----> 2\u001b[0;31m \u001b[0mmpl\u001b[0m\u001b[0;34m.\u001b[0m\u001b[0mreParams\u001b[0m\u001b[0;34m[\u001b[0m\u001b[0;34m'font.family'\u001b[0m\u001b[0;34m]\u001b[0m \u001b[0;34m=\u001b[0m \u001b[0;34m'serif'\u001b[0m\u001b[0;34m\u001b[0m\u001b[0;34m\u001b[0m\u001b[0m\n\u001b[0m\u001b[1;32m      3\u001b[0m \u001b[0mget_ipython\u001b[0m\u001b[0;34m(\u001b[0m\u001b[0;34m)\u001b[0m\u001b[0;34m.\u001b[0m\u001b[0mrun_line_magic\u001b[0m\u001b[0;34m(\u001b[0m\u001b[0;34m'matplotlib'\u001b[0m\u001b[0;34m,\u001b[0m \u001b[0;34m'inline'\u001b[0m\u001b[0;34m)\u001b[0m\u001b[0;34m\u001b[0m\u001b[0;34m\u001b[0m\u001b[0m\n",
            "\u001b[0;32m/usr/local/lib/python3.9/dist-packages/matplotlib/_api/__init__.py\u001b[0m in \u001b[0;36m__getattr__\u001b[0;34m(name)\u001b[0m\n\u001b[1;32m    224\u001b[0m         \u001b[0;32mif\u001b[0m \u001b[0mname\u001b[0m \u001b[0;32min\u001b[0m \u001b[0mprops\u001b[0m\u001b[0;34m:\u001b[0m\u001b[0;34m\u001b[0m\u001b[0;34m\u001b[0m\u001b[0m\n\u001b[1;32m    225\u001b[0m             \u001b[0;32mreturn\u001b[0m \u001b[0mprops\u001b[0m\u001b[0;34m[\u001b[0m\u001b[0mname\u001b[0m\u001b[0;34m]\u001b[0m\u001b[0;34m.\u001b[0m\u001b[0m__get__\u001b[0m\u001b[0;34m(\u001b[0m\u001b[0minstance\u001b[0m\u001b[0;34m)\u001b[0m\u001b[0;34m\u001b[0m\u001b[0;34m\u001b[0m\u001b[0m\n\u001b[0;32m--> 226\u001b[0;31m         raise AttributeError(\n\u001b[0m\u001b[1;32m    227\u001b[0m             f\"module {cls.__module__!r} has no attribute {name!r}\")\n\u001b[1;32m    228\u001b[0m \u001b[0;34m\u001b[0m\u001b[0m\n",
            "\u001b[0;31mAttributeError\u001b[0m: module 'matplotlib' has no attribute 'reParams'"
          ]
        }
      ]
    },
    {
      "cell_type": "code",
      "source": [
        "npr.seed(100)\n",
        "np.set_printoptions(precision=4)\n",
        "npr.rand(10)"
      ],
      "metadata": {
        "colab": {
          "base_uri": "https://localhost:8080/"
        },
        "id": "3DlM3SgAkPjf",
        "outputId": "01fe8a09-3928-4649-9028-e5458493dccd"
      },
      "execution_count": 3,
      "outputs": [
        {
          "output_type": "execute_result",
          "data": {
            "text/plain": [
              "array([0.5434, 0.2784, 0.4245, 0.8448, 0.0047, 0.1216, 0.6707, 0.8259,\n",
              "       0.1367, 0.5751])"
            ]
          },
          "metadata": {},
          "execution_count": 3
        }
      ]
    },
    {
      "cell_type": "code",
      "source": [
        "npr.rand(5,5)"
      ],
      "metadata": {
        "colab": {
          "base_uri": "https://localhost:8080/"
        },
        "id": "7Q_Z7ZWpllw_",
        "outputId": "d1863f64-6761-47fc-9a4b-5214db1dbd43"
      },
      "execution_count": 4,
      "outputs": [
        {
          "output_type": "execute_result",
          "data": {
            "text/plain": [
              "array([[0.8913, 0.2092, 0.1853, 0.1084, 0.2197],\n",
              "       [0.9786, 0.8117, 0.1719, 0.8162, 0.2741],\n",
              "       [0.4317, 0.94  , 0.8176, 0.3361, 0.1754],\n",
              "       [0.3728, 0.0057, 0.2524, 0.7957, 0.0153],\n",
              "       [0.5988, 0.6038, 0.1051, 0.3819, 0.0365]])"
            ]
          },
          "metadata": {},
          "execution_count": 4
        }
      ]
    },
    {
      "cell_type": "code",
      "source": [
        "a = 5.\n",
        "b = 10.\n",
        "npr.rand(10)* (b-a) + a"
      ],
      "metadata": {
        "colab": {
          "base_uri": "https://localhost:8080/"
        },
        "id": "S4h1ndf9l6AC",
        "outputId": "2427d9e3-1f9a-42b4-d7e4-feab6faf3c0f"
      },
      "execution_count": 5,
      "outputs": [
        {
          "output_type": "execute_result",
          "data": {
            "text/plain": [
              "array([9.4521, 9.9046, 5.2997, 9.4527, 7.8845, 8.7124, 8.1509, 7.9092,\n",
              "       5.1022, 6.0501])"
            ]
          },
          "metadata": {},
          "execution_count": 5
        }
      ]
    },
    {
      "cell_type": "code",
      "source": [
        "npr.rand(5,5) * (b-a) + a"
      ],
      "metadata": {
        "colab": {
          "base_uri": "https://localhost:8080/"
        },
        "id": "s084gUBemf7T",
        "outputId": "6c794521-3bb7-4313-aca6-163b5e2529f1"
      },
      "execution_count": 6,
      "outputs": [
        {
          "output_type": "execute_result",
          "data": {
            "text/plain": [
              "array([[7.7234, 8.8456, 6.2535, 6.4295, 9.262 ],\n",
              "       [9.875 , 9.4243, 6.7975, 7.9943, 6.774 ],\n",
              "       [6.701 , 5.8904, 6.1885, 5.2243, 7.5272],\n",
              "       [6.8813, 7.964 , 8.1497, 5.713 , 9.6692],\n",
              "       [9.7319, 8.0115, 6.9388, 6.8159, 6.0217]])"
            ]
          },
          "metadata": {},
          "execution_count": 6
        }
      ]
    },
    {
      "cell_type": "code",
      "source": [
        "sample_size = 100\n",
        "rn1 = npr.rand(sample_size,3)\n",
        "rn2 = npr.randint(0,10,sample_size)\n",
        "rn3 = npr.sample(size=sample_size)\n",
        "a  = [0,25,50,75,100]\n",
        "rn4 = npr.choice(a,size=sample_size)"
      ],
      "metadata": {
        "id": "kxmOQIv7nGyl"
      },
      "execution_count": 7,
      "outputs": []
    },
    {
      "cell_type": "code",
      "source": [
        "fig, ((ax1,ax2),(ax3,ax4)) = plt.subplots(nrows=2, ncols=2,\n",
        "                                          figsize=(10,8))\n",
        "ax1.hist(rn1,bins=25,stacked=True)\n",
        "ax1.set_title('rand')\n",
        "ax1.set_ylabel('frequency')\n",
        "ax2.hist(rn2,bins=25)\n",
        "ax3.hist(rn3,bins=25)\n",
        "ax3.set_title('sample')\n",
        "ax3.set_ylabel('frequency')\n",
        "ax4.hist(rn4,bins=25)\n",
        "ax4.set_title('choice');"
      ],
      "metadata": {
        "colab": {
          "base_uri": "https://localhost:8080/",
          "height": 697
        },
        "id": "MCQKIseCpUmT",
        "outputId": "829c7112-136b-4b00-82f1-240908a2e4c8"
      },
      "execution_count": 8,
      "outputs": [
        {
          "output_type": "display_data",
          "data": {
            "text/plain": [
              "<Figure size 1000x800 with 4 Axes>"
            ],
            "image/png": "[encoded data removed]"
          },
          "metadata": {}
        }
      ]
    }
  ]
}