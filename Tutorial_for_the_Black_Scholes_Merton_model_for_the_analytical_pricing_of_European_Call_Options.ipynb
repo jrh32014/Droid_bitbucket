{
  "nbformat": 4,
  "nbformat_minor": 0,
  "metadata": {
    "colab": {
      "provenance": [],
      "authorship_tag": "ABX9TyOAqfSWZEzLr6Gk2sLJU1/V",
      "include_colab_link": true
    },
    "kernelspec": {
      "name": "python3",
      "display_name": "Python 3"
    },
    "language_info": {
      "name": "python"
    }
  },
  "cells": [
    {
      "cell_type": "markdown",
      "metadata": {
        "id": "view-in-github",
        "colab_type": "text"
      },
      "source": [
        "<a href=\"https://colab.research.google.com/github/jrh32014/Droid_bitbucket/blob/main/Tutorial_for_the_Black_Scholes_Merton_model_for_the_analytical_pricing_of_European_Call_Options.ipynb\" target=\"_parent\"><img src=\"https://colab.research.google.com/assets/colab-badge.svg\" alt=\"Open In Colab\"/></a>"
      ]
    },
    {
      "cell_type": "code",
      "execution_count": 1,
      "metadata": {
        "id": "MUnLhaHnzFoW"
      },
      "outputs": [],
      "source": [
        "#\n",
        "# Valuation of European Call options\n",
        "# in Black - Scholes-Merton model\n",
        "# incl. vega function and implied volatility estimation\n",
        "# bsm_functions.py\n",
        "#\n",
        "# (c) Dr. Yves J. Hilpisch\n",
        "# Python for Finance, 2nd ed.\n",
        "#"
      ]
    },
    {
      "cell_type": "code",
      "source": [
        "def bsm_call_value(S0,K,T,r,sigma):\n",
        "    \\\\ Valuation of European call option in BSM model.\n",
        "    'Analytical' formula:\n",
        "    'Parameters'\n",
        "    ========\n",
        "    S0: float\n",
        "    'initial stock/index level'\n",
        "    K: float\n",
        "    'strike price'\n",
        "    T: float\n",
        "       'maturity date(in year fractions)'\n",
        "    r: float\n",
        "      'constant risk-free short rate'\n",
        "    sigma: float\n",
        "       volatility factor in diffusion term\n",
        "    'Returns'\n",
        "    =======\n",
        "    value: float\n",
        "    \\\\ present value of the European call option\n",
        "   \n"
      ],
      "metadata": {
        "id": "fzaGwzSf3z4U"
      },
      "execution_count": null,
      "outputs": []
    },
    {
      "cell_type": "code",
      "source": [
        "    from math import log, sqrt, exp\n",
        "    from scipy import stats\n",
        "    S0 = float(S0)\n",
        "    d1 = (log(S0/k)+(r + 0.5*sigma**2)*T)/(sigma*sqrt(T))\n",
        "    d2 = (log(S0/k)+(r-0.5*sigma**2)*T)/(sigma*sqrt(T))\n",
        "    # stats.norm.cdf --> cumulative distribution\n",
        "    #                    for normal distribution\n",
        "    value = (S0* stats.norm.cdf(d1,0.0,1.0)-\n",
        "             k* exp(-r*T)* stats.norm.cdf(d2,0.0,1.0))\n",
        "    return value\n"
      ],
      "metadata": {
        "id": "x58SZPWfNlRQ"
      },
      "execution_count": 2,
      "outputs": []
    },
    {
      "cell_type": "code",
      "source": [
        "from os import terminal_size\n",
        "def bsm_vega(S0,k,T,sigma):\n",
        "  // Vega of European option in BSM model.\n",
        "Parameters\n",
        "=======\n",
        "S0: float\n",
        "    'initial stock/index'\n",
        "k:  float\n",
        "    'strike price'\n",
        "T:  float\n",
        "    'constant risk-free short rate'\n",
        "sigma: float\n",
        "    volatility factor in diffusion term\n",
        "Returns\n",
        "=======\n",
        "vega: float\n",
        "   partial derivative of BSM formula with respect\n",
        "   to sigma, i.e. Vega\n",
        "//"
      ],
      "metadata": {
        "id": "9EmMajtsZEPR"
      },
      "execution_count": null,
      "outputs": []
    },
    {
      "cell_type": "code",
      "source": [
        "from math import log, sqrt\n",
        "from scipy import stats\n",
        "S0 = float(S0)\n",
        "d1 =(log(50/k)+(r+0.5*sigma**2)*T)/(sigma*sqrt(T))\n",
        "vega = S0 * stats.norm.pdf(d1,0.0,1.0)*sqrt(T)\n",
        "return vega"
      ],
      "metadata": {
        "id": "6aco7DyPf36n"
      },
      "execution_count": null,
      "outputs": []
    },
    {
      "cell_type": "code",
      "source": [
        "from numpy import integer\n",
        "from backcall.backcall import Parameter\n",
        "# Implied volatility function\n",
        "def bsm_call_imp_vol(S0,K,T,r,C0,sigma_est,it=100):\n",
        "  /// Implied volatility of European call option in BSM model.\n",
        "  Parameters\n",
        "  ==========\n",
        "  S0: float\n",
        "      'initial stock/index level'\n",
        "  K:  float\n",
        "      'strike price'\n",
        "  T:  float\n",
        "      'maturity date (in year fractions)'\n",
        "  r:  float\n",
        "      'constant risk-free short rate'\n",
        "  sigma_est: float\n",
        "      estimate of impl. volatility\n",
        "  it: integer\n",
        "      number of iterations\n",
        "  Returns\n",
        "  =======\n",
        "  sigma_est: float\n",
        "       numerically estimated implied volatility\n",
        "  ///\n",
        "  for i in range(it):\n",
        "      sigma_est -= ((bsm_call_value)(S0,k,T,r,sigma_est)-C0/\n",
        "                    bsm_vega(S0,k,T,r,sigma_est))\n",
        "  return sigma_est\n"
      ],
      "metadata": {
        "id": "RrPlGmYijU36"
      },
      "execution_count": null,
      "outputs": []
    }
  ]
}